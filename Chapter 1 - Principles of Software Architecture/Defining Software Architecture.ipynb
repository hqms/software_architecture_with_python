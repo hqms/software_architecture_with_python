{
 "cells": [
  {
   "cell_type": "markdown",
   "metadata": {
    "collapsed": true,
    "pycharm": {
     "name": "#%% md\n"
    }
   },
   "source": [
    "# Intro\n",
    "To be software architecture and Python developer at the same time, it is important to understand the fundamentals of software architecture, the themes and concept related to it, and various quality attributes of software architecture.\n",
    "\n",
    "There are various definition of software architecture. Senior Engineers often get very different interpretation on software architecture and design, this is common due to the pressure of learning the technology rather than learning the fundamental design and architectural principles. The pressure of delivering working code often overpowers when engineers have to choose whether it's a high quality one or running one :)\n",
    "\n",
    "## Definition\n",
    "Software architecture is a description of the subsystems or components of a software system, and the relationships between them. There are many definitions we can find on the web, all the definition refer to fundamental aspects of a software system.\n",
    "\n",
    "### Software Architecture vs Design\n",
    "* Architecture involved with higher level structures and interaction in a system. It is entailed with skeleton of system, both in functional and organizational, technical, business and quality attributes\n",
    "* Design is all about the organization of components and the subsystems involved in a system.\n",
    "\n",
    "Software architecture is about the design of the entire system, whereas, software design is mostly about the details.\n",
    "\n",
    "### Aspects\n",
    "* **System**, a collection of components organized in specific ways to achieve a specific functionality.\n",
    "* **Structure**, a set of element that organized according to a principle, both software or hardware.\n",
    "* **Environment**, context in which software built and run, can be technical, business, professional and so on.\n",
    "* **Stakeholder**, anyone or groups who have concern in the system and its success.\n",
    "\n",
    "## Characteristics\n",
    "\n",
    "### An architecture defines a Structures\n",
    "An architecture of a system is best represented as structural details of the system in order to describe the relationships between the subsystems.\n",
    "Structures provide insight into architectures, and provide a unique perspective to analyze the attributes of architecture.\n",
    "\n",
    "<figure>\n",
    "    <img src=\"assets/architecture_diagram_showing_system_structure.png\"  width=\"400\"  alt=\"Architecture diagram showing system structure\">\n",
    "    <figcaption>Architecture diagram showing system structure</figcaption>\n",
    "</figure>\n",
    "\n"
   ]
  }
 ],
 "metadata": {
  "kernelspec": {
   "display_name": "Python 3",
   "language": "python",
   "name": "python3"
  },
  "language_info": {
   "codemirror_mode": {
    "name": "ipython",
    "version": 2
   },
   "file_extension": ".py",
   "mimetype": "text/x-python",
   "name": "python",
   "nbconvert_exporter": "python",
   "pygments_lexer": "ipython2",
   "version": "2.7.6"
  }
 },
 "nbformat": 4,
 "nbformat_minor": 0
}